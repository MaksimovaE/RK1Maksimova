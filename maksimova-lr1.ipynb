{
 "cells": [
  {
   "cell_type": "markdown",
   "metadata": {
    "papermill": {
     "duration": 0.014877,
     "end_time": "2021-04-08T18:02:15.449229",
     "exception": false,
     "start_time": "2021-04-08T18:02:15.434352",
     "status": "completed"
    },
    "tags": []
   },
   "source": [
    "# ЛР 1 - Максимова Екатерина ИУ5-23М\n",
    "\n",
    "### Задание:\n",
    "1. Выбрать набор данных (датасет). Для лабораторных работ не рекомендуется выбирать датасеты очень большого размера.\n",
    "\n",
    "2. Создать \"историю о данных\" в виде юпитер-ноутбука, с учетом следующих требований:\n",
    "    * История должна содержать не менее 5 шагов (где 5 - рекомендуемое количество шагов). Каждый шаг содержит график и его текстовую интерпретацию.\n",
    "    * На каждом шаге наряду с удачным итоговым графиком рекомендуется в юпитер-ноутбуке оставлять результаты предварительных \"неудачных\" графиков.\n",
    "    * Не рекомендуется повторять виды графиков, желательно создать 5 графиков различных видов.\n",
    "    * История должна содержать итоговые выводы. В реальных \"историях о данных\" именно эти выводы представляют собой основную ценность для предприятия.\n",
    "3. Сформировать отчет и разместить его в своем репозитории на github.\n",
    "## Описание датасета\n",
    "\n",
    "Этот набор данных содержит основные факторы, заставляющие человека бросить текущую работуи начать искать новую. Признаки:\n",
    "* enrollee_id : уникальный ID кандидата\n",
    "* city: код города \n",
    "* city_development_index : индекс развития города (масштабированный) \n",
    "* gender: пол \n",
    "* relevent_experience: опыт \n",
    "* enrolled_university: Тип университетского курса, если таковой имеется\n",
    "* education_level: уровень образования\n",
    "* major_discipline: образовательная направленность  \n",
    "* experience: опыт в годах\n",
    "* company_size: количество сотрудников в текущей компании\n",
    "* company_type : тип компании\n",
    "* lastnewjob: разница в годах между предыдущей работой и текущей работой\n",
    "* training_hours: кол-во времени потраченное на курсы\n",
    "* target: 0 – не ищет работу, 1 – ищет работу"
   ]
  },
  {
   "cell_type": "code",
   "execution_count": 1,
   "metadata": {
    "_cell_guid": "b1076dfc-b9ad-4769-8c92-a6c4dae69d19",
    "_kg_hide-input": true,
    "_kg_hide-output": true,
    "_uuid": "8f2839f25d086af736a60e9eeb907d3b93b6e0e5",
    "execution": {
     "iopub.execute_input": "2021-04-08T18:02:15.480683Z",
     "iopub.status.busy": "2021-04-08T18:02:15.480047Z",
     "iopub.status.idle": "2021-04-08T18:02:17.621509Z",
     "shell.execute_reply": "2021-04-08T18:02:17.622312Z"
    },
    "papermill": {
     "duration": 2.15928,
     "end_time": "2021-04-08T18:02:17.622757",
     "exception": false,
     "start_time": "2021-04-08T18:02:15.463477",
     "status": "completed"
    },
    "tags": []
   },
   "outputs": [
    {
     "data": {
      "text/html": [
       "        <script type=\"text/javascript\">\n",
       "        window.PlotlyConfig = {MathJaxConfig: 'local'};\n",
       "        if (window.MathJax) {MathJax.Hub.Config({SVG: {font: \"STIX-Web\"}});}\n",
       "        if (typeof require !== 'undefined') {\n",
       "        require.undef(\"plotly\");\n",
       "        requirejs.config({\n",
       "            paths: {\n",
       "                'plotly': ['https://cdn.plot.ly/plotly-latest.min']\n",
       "            }\n",
       "        });\n",
       "        require(['plotly'], function(Plotly) {\n",
       "            window._Plotly = Plotly;\n",
       "        });\n",
       "        }\n",
       "        </script>\n",
       "        "
      ]
     },
     "metadata": {},
     "output_type": "display_data"
    }
   ],
   "source": [
    "import numpy as np \n",
    "import pandas as pd\n",
    "import plotly as py\n",
    "import plotly.graph_objs as go\n",
    "import plotly.express as px\n",
    "from plotly.offline import init_notebook_mode\n",
    "init_notebook_mode(connected = True)\n",
    "import seaborn as sns\n",
    "\n",
    "import matplotlib.pyplot as plt\n",
    "%matplotlib inline\n",
    "\n",
    "pd.set_option('display.max_columns', None)"
   ]
  },
  {
   "cell_type": "code",
   "execution_count": 2,
   "metadata": {
    "_kg_hide-input": true,
    "_kg_hide-output": true,
    "execution": {
     "iopub.execute_input": "2021-04-08T18:02:17.669030Z",
     "iopub.status.busy": "2021-04-08T18:02:17.668288Z",
     "iopub.status.idle": "2021-04-08T18:02:17.774586Z",
     "shell.execute_reply": "2021-04-08T18:02:17.773895Z"
    },
    "papermill": {
     "duration": 0.131691,
     "end_time": "2021-04-08T18:02:17.774756",
     "exception": false,
     "start_time": "2021-04-08T18:02:17.643065",
     "status": "completed"
    },
    "tags": []
   },
   "outputs": [],
   "source": [
    "hr = pd.read_csv('../input/hr-analytics-job-change-of-data-scientists/aug_train.csv')"
   ]
  },
  {
   "cell_type": "markdown",
   "metadata": {
    "papermill": {
     "duration": 0.014092,
     "end_time": "2021-04-08T18:02:17.804216",
     "exception": false,
     "start_time": "2021-04-08T18:02:17.790124",
     "status": "completed"
    },
    "tags": []
   },
   "source": [
    "# Описание датасета"
   ]
  },
  {
   "cell_type": "code",
   "execution_count": 3,
   "metadata": {
    "execution": {
     "iopub.execute_input": "2021-04-08T18:02:17.848740Z",
     "iopub.status.busy": "2021-04-08T18:02:17.848038Z",
     "iopub.status.idle": "2021-04-08T18:02:17.877427Z",
     "shell.execute_reply": "2021-04-08T18:02:17.876914Z"
    },
    "papermill": {
     "duration": 0.058849,
     "end_time": "2021-04-08T18:02:17.877570",
     "exception": false,
     "start_time": "2021-04-08T18:02:17.818721",
     "status": "completed"
    },
    "tags": []
   },
   "outputs": [
    {
     "data": {
      "text/html": [
       "<div>\n",
       "<style scoped>\n",
       "    .dataframe tbody tr th:only-of-type {\n",
       "        vertical-align: middle;\n",
       "    }\n",
       "\n",
       "    .dataframe tbody tr th {\n",
       "        vertical-align: top;\n",
       "    }\n",
       "\n",
       "    .dataframe thead th {\n",
       "        text-align: right;\n",
       "    }\n",
       "</style>\n",
       "<table border=\"1\" class=\"dataframe\">\n",
       "  <thead>\n",
       "    <tr style=\"text-align: right;\">\n",
       "      <th></th>\n",
       "      <th>enrollee_id</th>\n",
       "      <th>city</th>\n",
       "      <th>city_development_index</th>\n",
       "      <th>gender</th>\n",
       "      <th>relevent_experience</th>\n",
       "      <th>enrolled_university</th>\n",
       "      <th>education_level</th>\n",
       "      <th>major_discipline</th>\n",
       "      <th>experience</th>\n",
       "      <th>company_size</th>\n",
       "      <th>company_type</th>\n",
       "      <th>last_new_job</th>\n",
       "      <th>training_hours</th>\n",
       "      <th>target</th>\n",
       "    </tr>\n",
       "  </thead>\n",
       "  <tbody>\n",
       "    <tr>\n",
       "      <th>0</th>\n",
       "      <td>8949</td>\n",
       "      <td>city_103</td>\n",
       "      <td>0.920</td>\n",
       "      <td>Male</td>\n",
       "      <td>Has relevent experience</td>\n",
       "      <td>no_enrollment</td>\n",
       "      <td>Graduate</td>\n",
       "      <td>STEM</td>\n",
       "      <td>&gt;20</td>\n",
       "      <td>NaN</td>\n",
       "      <td>NaN</td>\n",
       "      <td>1</td>\n",
       "      <td>36</td>\n",
       "      <td>1.0</td>\n",
       "    </tr>\n",
       "    <tr>\n",
       "      <th>1</th>\n",
       "      <td>29725</td>\n",
       "      <td>city_40</td>\n",
       "      <td>0.776</td>\n",
       "      <td>Male</td>\n",
       "      <td>No relevent experience</td>\n",
       "      <td>no_enrollment</td>\n",
       "      <td>Graduate</td>\n",
       "      <td>STEM</td>\n",
       "      <td>15</td>\n",
       "      <td>50-99</td>\n",
       "      <td>Pvt Ltd</td>\n",
       "      <td>&gt;4</td>\n",
       "      <td>47</td>\n",
       "      <td>0.0</td>\n",
       "    </tr>\n",
       "    <tr>\n",
       "      <th>2</th>\n",
       "      <td>11561</td>\n",
       "      <td>city_21</td>\n",
       "      <td>0.624</td>\n",
       "      <td>NaN</td>\n",
       "      <td>No relevent experience</td>\n",
       "      <td>Full time course</td>\n",
       "      <td>Graduate</td>\n",
       "      <td>STEM</td>\n",
       "      <td>5</td>\n",
       "      <td>NaN</td>\n",
       "      <td>NaN</td>\n",
       "      <td>never</td>\n",
       "      <td>83</td>\n",
       "      <td>0.0</td>\n",
       "    </tr>\n",
       "    <tr>\n",
       "      <th>3</th>\n",
       "      <td>33241</td>\n",
       "      <td>city_115</td>\n",
       "      <td>0.789</td>\n",
       "      <td>NaN</td>\n",
       "      <td>No relevent experience</td>\n",
       "      <td>NaN</td>\n",
       "      <td>Graduate</td>\n",
       "      <td>Business Degree</td>\n",
       "      <td>&lt;1</td>\n",
       "      <td>NaN</td>\n",
       "      <td>Pvt Ltd</td>\n",
       "      <td>never</td>\n",
       "      <td>52</td>\n",
       "      <td>1.0</td>\n",
       "    </tr>\n",
       "    <tr>\n",
       "      <th>4</th>\n",
       "      <td>666</td>\n",
       "      <td>city_162</td>\n",
       "      <td>0.767</td>\n",
       "      <td>Male</td>\n",
       "      <td>Has relevent experience</td>\n",
       "      <td>no_enrollment</td>\n",
       "      <td>Masters</td>\n",
       "      <td>STEM</td>\n",
       "      <td>&gt;20</td>\n",
       "      <td>50-99</td>\n",
       "      <td>Funded Startup</td>\n",
       "      <td>4</td>\n",
       "      <td>8</td>\n",
       "      <td>0.0</td>\n",
       "    </tr>\n",
       "  </tbody>\n",
       "</table>\n",
       "</div>"
      ],
      "text/plain": [
       "   enrollee_id      city  city_development_index gender  \\\n",
       "0         8949  city_103                   0.920   Male   \n",
       "1        29725   city_40                   0.776   Male   \n",
       "2        11561   city_21                   0.624    NaN   \n",
       "3        33241  city_115                   0.789    NaN   \n",
       "4          666  city_162                   0.767   Male   \n",
       "\n",
       "       relevent_experience enrolled_university education_level  \\\n",
       "0  Has relevent experience       no_enrollment        Graduate   \n",
       "1   No relevent experience       no_enrollment        Graduate   \n",
       "2   No relevent experience    Full time course        Graduate   \n",
       "3   No relevent experience                 NaN        Graduate   \n",
       "4  Has relevent experience       no_enrollment         Masters   \n",
       "\n",
       "  major_discipline experience company_size    company_type last_new_job  \\\n",
       "0             STEM        >20          NaN             NaN            1   \n",
       "1             STEM         15        50-99         Pvt Ltd           >4   \n",
       "2             STEM          5          NaN             NaN        never   \n",
       "3  Business Degree         <1          NaN         Pvt Ltd        never   \n",
       "4             STEM        >20        50-99  Funded Startup            4   \n",
       "\n",
       "   training_hours  target  \n",
       "0              36     1.0  \n",
       "1              47     0.0  \n",
       "2              83     0.0  \n",
       "3              52     1.0  \n",
       "4               8     0.0  "
      ]
     },
     "execution_count": 3,
     "metadata": {},
     "output_type": "execute_result"
    }
   ],
   "source": [
    "hr.head()"
   ]
  },
  {
   "cell_type": "code",
   "execution_count": 4,
   "metadata": {
    "execution": {
     "iopub.execute_input": "2021-04-08T18:02:17.912443Z",
     "iopub.status.busy": "2021-04-08T18:02:17.911773Z",
     "iopub.status.idle": "2021-04-08T18:02:17.951167Z",
     "shell.execute_reply": "2021-04-08T18:02:17.950497Z"
    },
    "papermill": {
     "duration": 0.058256,
     "end_time": "2021-04-08T18:02:17.951321",
     "exception": false,
     "start_time": "2021-04-08T18:02:17.893065",
     "status": "completed"
    },
    "tags": []
   },
   "outputs": [
    {
     "name": "stdout",
     "output_type": "stream",
     "text": [
      "<class 'pandas.core.frame.DataFrame'>\n",
      "RangeIndex: 19158 entries, 0 to 19157\n",
      "Data columns (total 14 columns):\n",
      " #   Column                  Non-Null Count  Dtype  \n",
      "---  ------                  --------------  -----  \n",
      " 0   enrollee_id             19158 non-null  int64  \n",
      " 1   city                    19158 non-null  object \n",
      " 2   city_development_index  19158 non-null  float64\n",
      " 3   gender                  14650 non-null  object \n",
      " 4   relevent_experience     19158 non-null  object \n",
      " 5   enrolled_university     18772 non-null  object \n",
      " 6   education_level         18698 non-null  object \n",
      " 7   major_discipline        16345 non-null  object \n",
      " 8   experience              19093 non-null  object \n",
      " 9   company_size            13220 non-null  object \n",
      " 10  company_type            13018 non-null  object \n",
      " 11  last_new_job            18735 non-null  object \n",
      " 12  training_hours          19158 non-null  int64  \n",
      " 13  target                  19158 non-null  float64\n",
      "dtypes: float64(2), int64(2), object(10)\n",
      "memory usage: 2.0+ MB\n"
     ]
    }
   ],
   "source": [
    "hr.info()"
   ]
  },
  {
   "cell_type": "code",
   "execution_count": 5,
   "metadata": {
    "execution": {
     "iopub.execute_input": "2021-04-08T18:02:18.008390Z",
     "iopub.status.busy": "2021-04-08T18:02:18.007652Z",
     "iopub.status.idle": "2021-04-08T18:02:18.015829Z",
     "shell.execute_reply": "2021-04-08T18:02:18.015292Z"
    },
    "papermill": {
     "duration": 0.048645,
     "end_time": "2021-04-08T18:02:18.015987",
     "exception": false,
     "start_time": "2021-04-08T18:02:17.967342",
     "status": "completed"
    },
    "tags": []
   },
   "outputs": [
    {
     "data": {
      "text/plain": [
       "enrollee_id                  0\n",
       "city                         0\n",
       "city_development_index       0\n",
       "gender                    4508\n",
       "relevent_experience          0\n",
       "enrolled_university        386\n",
       "education_level            460\n",
       "major_discipline          2813\n",
       "experience                  65\n",
       "company_size              5938\n",
       "company_type              6140\n",
       "last_new_job               423\n",
       "training_hours               0\n",
       "target                       0\n",
       "dtype: int64"
      ]
     },
     "execution_count": 5,
     "metadata": {},
     "output_type": "execute_result"
    }
   ],
   "source": [
    "hr.isnull().sum()"
   ]
  },
  {
   "cell_type": "markdown",
   "metadata": {
    "papermill": {
     "duration": 0.015788,
     "end_time": "2021-04-08T18:02:18.048373",
     "exception": false,
     "start_time": "2021-04-08T18:02:18.032585",
     "status": "completed"
    },
    "tags": []
   },
   "source": [
    "# Предобработка данных"
   ]
  },
  {
   "cell_type": "markdown",
   "metadata": {
    "papermill": {
     "duration": 0.017306,
     "end_time": "2021-04-08T18:02:18.081831",
     "exception": false,
     "start_time": "2021-04-08T18:02:18.064525",
     "status": "completed"
    },
    "tags": []
   },
   "source": [
    "Необходимо удалить неинформатиную колонку enrollee_id и заполнить пропуски в данных"
   ]
  },
  {
   "cell_type": "code",
   "execution_count": 6,
   "metadata": {
    "execution": {
     "iopub.execute_input": "2021-04-08T18:02:18.120551Z",
     "iopub.status.busy": "2021-04-08T18:02:18.119789Z",
     "iopub.status.idle": "2021-04-08T18:02:18.124638Z",
     "shell.execute_reply": "2021-04-08T18:02:18.125125Z"
    },
    "papermill": {
     "duration": 0.027029,
     "end_time": "2021-04-08T18:02:18.125319",
     "exception": false,
     "start_time": "2021-04-08T18:02:18.098290",
     "status": "completed"
    },
    "tags": []
   },
   "outputs": [],
   "source": [
    "hr = hr.drop(['enrollee_id'], axis = 1)"
   ]
  },
  {
   "cell_type": "code",
   "execution_count": 7,
   "metadata": {
    "execution": {
     "iopub.execute_input": "2021-04-08T18:02:18.166386Z",
     "iopub.status.busy": "2021-04-08T18:02:18.165596Z",
     "iopub.status.idle": "2021-04-08T18:02:18.169542Z",
     "shell.execute_reply": "2021-04-08T18:02:18.168919Z"
    },
    "papermill": {
     "duration": 0.027962,
     "end_time": "2021-04-08T18:02:18.169684",
     "exception": false,
     "start_time": "2021-04-08T18:02:18.141722",
     "status": "completed"
    },
    "tags": []
   },
   "outputs": [
    {
     "data": {
      "text/plain": [
       "array([nan, '50-99', '<10', '10000+', '5000-9999', '1000-4999', '10/49',\n",
       "       '100-500', '500-999'], dtype=object)"
      ]
     },
     "execution_count": 7,
     "metadata": {},
     "output_type": "execute_result"
    }
   ],
   "source": [
    "hr['company_size'].unique()"
   ]
  },
  {
   "cell_type": "code",
   "execution_count": 8,
   "metadata": {
    "execution": {
     "iopub.execute_input": "2021-04-08T18:02:18.211624Z",
     "iopub.status.busy": "2021-04-08T18:02:18.210542Z",
     "iopub.status.idle": "2021-04-08T18:02:18.215193Z",
     "shell.execute_reply": "2021-04-08T18:02:18.214565Z"
    },
    "papermill": {
     "duration": 0.028822,
     "end_time": "2021-04-08T18:02:18.215329",
     "exception": false,
     "start_time": "2021-04-08T18:02:18.186507",
     "status": "completed"
    },
    "tags": []
   },
   "outputs": [
    {
     "data": {
      "text/plain": [
       "array(['>20', '15', '5', '<1', '11', '13', '7', '17', '2', '16', '1', '4',\n",
       "       '10', '14', '18', '19', '12', '3', '6', '9', '8', '20', nan],\n",
       "      dtype=object)"
      ]
     },
     "execution_count": 8,
     "metadata": {},
     "output_type": "execute_result"
    }
   ],
   "source": [
    "hr['experience'].unique()"
   ]
  },
  {
   "cell_type": "markdown",
   "metadata": {
    "papermill": {
     "duration": 0.016848,
     "end_time": "2021-04-08T18:02:18.249539",
     "exception": false,
     "start_time": "2021-04-08T18:02:18.232691",
     "status": "completed"
    },
    "tags": []
   },
   "source": [
    "Сделаем строгие рамки опыта и нахождения на текущей работе"
   ]
  },
  {
   "cell_type": "code",
   "execution_count": 9,
   "metadata": {
    "execution": {
     "iopub.execute_input": "2021-04-08T18:02:18.291531Z",
     "iopub.status.busy": "2021-04-08T18:02:18.290859Z",
     "iopub.status.idle": "2021-04-08T18:02:20.501276Z",
     "shell.execute_reply": "2021-04-08T18:02:20.500582Z"
    },
    "papermill": {
     "duration": 2.234634,
     "end_time": "2021-04-08T18:02:20.501429",
     "exception": false,
     "start_time": "2021-04-08T18:02:18.266795",
     "status": "completed"
    },
    "tags": []
   },
   "outputs": [
    {
     "name": "stderr",
     "output_type": "stream",
     "text": [
      "/opt/conda/lib/python3.7/site-packages/ipykernel_launcher.py:3: SettingWithCopyWarning:\n",
      "\n",
      "\n",
      "A value is trying to be set on a copy of a slice from a DataFrame\n",
      "\n",
      "See the caveats in the documentation: https://pandas.pydata.org/pandas-docs/stable/user_guide/indexing.html#returning-a-view-versus-a-copy\n",
      "\n",
      "/opt/conda/lib/python3.7/site-packages/ipykernel_launcher.py:5: SettingWithCopyWarning:\n",
      "\n",
      "\n",
      "A value is trying to be set on a copy of a slice from a DataFrame\n",
      "\n",
      "See the caveats in the documentation: https://pandas.pydata.org/pandas-docs/stable/user_guide/indexing.html#returning-a-view-versus-a-copy\n",
      "\n"
     ]
    }
   ],
   "source": [
    "for i in range(len(hr.index)):\n",
    "    if hr['experience'][i] == '>20':\n",
    "        hr['experience'][i] = '21'\n",
    "    elif hr['experience'][i] == '<1':\n",
    "        hr['experience'][i] = '0'"
   ]
  },
  {
   "cell_type": "code",
   "execution_count": 10,
   "metadata": {
    "execution": {
     "iopub.execute_input": "2021-04-08T18:02:20.545584Z",
     "iopub.status.busy": "2021-04-08T18:02:20.544933Z",
     "iopub.status.idle": "2021-04-08T18:02:20.548853Z",
     "shell.execute_reply": "2021-04-08T18:02:20.548208Z"
    },
    "papermill": {
     "duration": 0.029306,
     "end_time": "2021-04-08T18:02:20.549006",
     "exception": false,
     "start_time": "2021-04-08T18:02:20.519700",
     "status": "completed"
    },
    "tags": []
   },
   "outputs": [
    {
     "data": {
      "text/plain": [
       "array(['1', '>4', 'never', '4', '3', '2', nan], dtype=object)"
      ]
     },
     "execution_count": 10,
     "metadata": {},
     "output_type": "execute_result"
    }
   ],
   "source": [
    "hr['last_new_job'].unique()"
   ]
  },
  {
   "cell_type": "code",
   "execution_count": 11,
   "metadata": {
    "execution": {
     "iopub.execute_input": "2021-04-08T18:02:20.592943Z",
     "iopub.status.busy": "2021-04-08T18:02:20.592256Z",
     "iopub.status.idle": "2021-04-08T18:02:23.777412Z",
     "shell.execute_reply": "2021-04-08T18:02:23.777918Z"
    },
    "papermill": {
     "duration": 3.20982,
     "end_time": "2021-04-08T18:02:23.778110",
     "exception": false,
     "start_time": "2021-04-08T18:02:20.568290",
     "status": "completed"
    },
    "tags": []
   },
   "outputs": [
    {
     "name": "stderr",
     "output_type": "stream",
     "text": [
      "/opt/conda/lib/python3.7/site-packages/ipykernel_launcher.py:3: SettingWithCopyWarning:\n",
      "\n",
      "\n",
      "A value is trying to be set on a copy of a slice from a DataFrame\n",
      "\n",
      "See the caveats in the documentation: https://pandas.pydata.org/pandas-docs/stable/user_guide/indexing.html#returning-a-view-versus-a-copy\n",
      "\n",
      "/opt/conda/lib/python3.7/site-packages/ipykernel_launcher.py:5: SettingWithCopyWarning:\n",
      "\n",
      "\n",
      "A value is trying to be set on a copy of a slice from a DataFrame\n",
      "\n",
      "See the caveats in the documentation: https://pandas.pydata.org/pandas-docs/stable/user_guide/indexing.html#returning-a-view-versus-a-copy\n",
      "\n"
     ]
    }
   ],
   "source": [
    "for i in range(len(hr.index)):\n",
    "    if hr['last_new_job'][i] == '>4':\n",
    "        hr['last_new_job'][i] = '5'\n",
    "    elif hr['last_new_job'][i] == 'never':\n",
    "        hr['last_new_job'][i] = '0'"
   ]
  },
  {
   "cell_type": "code",
   "execution_count": 12,
   "metadata": {
    "execution": {
     "iopub.execute_input": "2021-04-08T18:02:23.823490Z",
     "iopub.status.busy": "2021-04-08T18:02:23.821955Z",
     "iopub.status.idle": "2021-04-08T18:02:23.827749Z",
     "shell.execute_reply": "2021-04-08T18:02:23.827029Z"
    },
    "papermill": {
     "duration": 0.030322,
     "end_time": "2021-04-08T18:02:23.827944",
     "exception": false,
     "start_time": "2021-04-08T18:02:23.797622",
     "status": "completed"
    },
    "tags": []
   },
   "outputs": [],
   "source": [
    "retarget = {0.0: 'Not looking for job change',\n",
    "           1.0: 'Looking for job change'}\n",
    "hr['target'] = hr['target'].map(retarget)"
   ]
  },
  {
   "cell_type": "markdown",
   "metadata": {
    "papermill": {
     "duration": 0.019421,
     "end_time": "2021-04-08T18:02:23.866314",
     "exception": false,
     "start_time": "2021-04-08T18:02:23.846893",
     "status": "completed"
    },
    "tags": []
   },
   "source": [
    "# Анализ данных\n",
    "## Распределение целевой переменной"
   ]
  },
  {
   "cell_type": "code",
   "execution_count": 13,
   "metadata": {
    "execution": {
     "iopub.execute_input": "2021-04-08T18:02:23.914603Z",
     "iopub.status.busy": "2021-04-08T18:02:23.913947Z",
     "iopub.status.idle": "2021-04-08T18:02:24.109453Z",
     "shell.execute_reply": "2021-04-08T18:02:24.108781Z"
    },
    "papermill": {
     "duration": 0.224459,
     "end_time": "2021-04-08T18:02:24.109596",
     "exception": false,
     "start_time": "2021-04-08T18:02:23.885137",
     "status": "completed"
    },
    "tags": []
   },
   "outputs": [
    {
     "data": {
      "text/plain": [
       "<AxesSubplot:title={'center':'Распределение целевой переменной'}, ylabel='кол-во человек'>"
      ]
     },
     "execution_count": 13,
     "metadata": {},
     "output_type": "execute_result"
    },
    {
     "data": {
      "image/png": "[encoded data removed]",
      "text/plain": [
       "<Figure size 432x288 with 1 Axes>"
      ]
     },
     "metadata": {
      "needs_background": "light"
     },
     "output_type": "display_data"
    }
   ],
   "source": [
    "target = hr[\"target\"].value_counts()\n",
    "target.plot.bar(title = 'Распределение целевой переменной' , ylabel = 'кол-во человек' )"
   ]
  },
  {
   "cell_type": "markdown",
   "metadata": {
    "papermill": {
     "duration": 0.019675,
     "end_time": "2021-04-08T18:02:24.149832",
     "exception": false,
     "start_time": "2021-04-08T18:02:24.130157",
     "status": "completed"
    },
    "tags": []
   },
   "source": [
    "Большинство из кандидатов не ищет работу"
   ]
  },
  {
   "cell_type": "markdown",
   "metadata": {
    "papermill": {
     "duration": 0.019768,
     "end_time": "2021-04-08T18:02:24.189788",
     "exception": false,
     "start_time": "2021-04-08T18:02:24.170020",
     "status": "completed"
    },
    "tags": []
   },
   "source": [
    "## Кто чаще ищет работу?"
   ]
  },
  {
   "cell_type": "code",
   "execution_count": 14,
   "metadata": {
    "execution": {
     "iopub.execute_input": "2021-04-08T18:02:24.241538Z",
     "iopub.status.busy": "2021-04-08T18:02:24.240845Z",
     "iopub.status.idle": "2021-04-08T18:02:24.398840Z",
     "shell.execute_reply": "2021-04-08T18:02:24.399413Z"
    },
    "papermill": {
     "duration": 0.189611,
     "end_time": "2021-04-08T18:02:24.399601",
     "exception": false,
     "start_time": "2021-04-08T18:02:24.209990",
     "status": "completed"
    },
    "tags": []
   },
   "outputs": [
    {
     "data": {
      "image/png": "[encoded data removed]",
      "text/plain": [
       "<Figure size 648x648 with 1 Axes>"
      ]
     },
     "metadata": {},
     "output_type": "display_data"
    }
   ],
   "source": [
    "hr[\"gender\"].value_counts().plot.pie(figsize = (9,9) ,autopct='%1.2f%%' , \n",
    "                title = 'Гендерное распределение кандидатов')\n",
    "plt.show()"
   ]
  },
  {
   "cell_type": "markdown",
   "metadata": {
    "papermill": {
     "duration": 0.021118,
     "end_time": "2021-04-08T18:02:24.443139",
     "exception": false,
     "start_time": "2021-04-08T18:02:24.422021",
     "status": "completed"
    },
    "tags": []
   },
   "source": [
    "## Анализ признаков Major Discipline, Education_level, experience, training_hours на одной диаграмме\n"
   ]
  },
  {
   "cell_type": "code",
   "execution_count": 15,
   "metadata": {
    "execution": {
     "iopub.execute_input": "2021-04-08T18:02:24.512406Z",
     "iopub.status.busy": "2021-04-08T18:02:24.498078Z",
     "iopub.status.idle": "2021-04-08T18:02:26.293793Z",
     "shell.execute_reply": "2021-04-08T18:02:26.294277Z"
    },
    "papermill": {
     "duration": 1.829895,
     "end_time": "2021-04-08T18:02:26.294456",
     "exception": false,
     "start_time": "2021-04-08T18:02:24.464561",
     "status": "completed"
    },
    "tags": []
   },
   "outputs": [
    {
     "name": "stderr",
     "output_type": "stream",
     "text": [
      "/opt/conda/lib/python3.7/site-packages/seaborn/_decorators.py:43: FutureWarning:\n",
      "\n",
      "Pass the following variable as a keyword arg: x. From version 0.12, the only valid positional argument will be `data`, and passing other arguments without an explicit keyword will result in an error or misinterpretation.\n",
      "\n",
      "/opt/conda/lib/python3.7/site-packages/seaborn/distributions.py:2557: FutureWarning:\n",
      "\n",
      "`distplot` is a deprecated function and will be removed in a future version. Please adapt your code to use either `displot` (a figure-level function with similar flexibility) or `histplot` (an axes-level function for histograms).\n",
      "\n"
     ]
    },
    {
     "data": {
      "image/png": "[encoded data removed]",
      "text/plain": [
       "<Figure size 1440x1440 with 4 Axes>"
      ]
     },
     "metadata": {
      "needs_background": "light"
     },
     "output_type": "display_data"
    }
   ],
   "source": [
    "fig, ax = plt.subplots(nrows = 2,ncols = 2 , figsize = (9,10) , constrained_layout=True)\n",
    "ax1,ax2, ax3, ax4 = ax.flatten()\n",
    "\n",
    "major_discipilane = hr[\"major_discipline\"].value_counts()\n",
    "\n",
    "major_discipilane.plot.pie(figsize = (20,20) , title = 'major_discipline', ax = ax1 , ylabel = \"\" , autopct='%1.1f%%')\n",
    "plt.ylabel(\"\")\n",
    "\n",
    "\n",
    "edu_level = hr[\"education_level\"].value_counts()\n",
    "edu_level.plot.bar(title = \"Education_Level\"   , \n",
    "color = [\"Green\" , \"purple\" , \"red\" , \"grey\" , \"orange\"] , ax = ax2  , rot = 45)\n",
    "for i in [\"top\", \"right\" ]:\n",
    "    ax2.spines[i].set_visible(False)\n",
    "\n",
    "sns.countplot(hr[\"experience\"], order = hr[\"experience\"].value_counts().index, ax = ax3 )\n",
    "# ax3.set(xlabel='Experience')\n",
    "\n",
    "for i in [\"top\", \"right\" ]:\n",
    "    ax3.spines[i].set_visible(False)\n",
    "\n",
    "sns.distplot(hr[\"training_hours\"] , color = 'purple' , ax = ax4)\n",
    "for i in [\"top\", \"right\" ]:\n",
    "    ax4.spines[i].set_visible(False)\n",
    "plt.show()"
   ]
  },
  {
   "cell_type": "markdown",
   "metadata": {
    "papermill": {
     "duration": 0.024419,
     "end_time": "2021-04-08T18:02:26.343727",
     "exception": false,
     "start_time": "2021-04-08T18:02:26.319308",
     "status": "completed"
    },
    "tags": []
   },
   "source": [
    "1. В столбце Major Discipilane максимальное количество людей, которые ищут новую работу, - это те, кто принадлежит к категории STEM - (Science, Technology, Engineering and Mathematics) — наука, технологии, инженерия и математика.\n",
    "1. В столбце Education_level мы видим, что максимальное количество людей, ищущих работу в DS - это выпускники\n",
    "1. В столбце «experience» мы видим, что в основном работу ищут люди с опытом работы более 20 лет \n",
    "1. В столбце «training hours» среднее количество часов обучения людей составляет 65 часов"
   ]
  }
 ],
 "metadata": {
  "kernelspec": {
   "display_name": "Python 3",
   "language": "python",
   "name": "python3"
  },
  "language_info": {
   "codemirror_mode": {
    "name": "ipython",
    "version": 3
   },
   "file_extension": ".py",
   "mimetype": "text/x-python",
   "name": "python",
   "nbconvert_exporter": "python",
   "pygments_lexer": "ipython3",
   "version": "3.6.12"
  },
  "papermill": {
   "default_parameters": {},
   "duration": 18.076386,
   "end_time": "2021-04-08T18:02:27.079150",
   "environment_variables": {},
   "exception": null,
   "input_path": "__notebook__.ipynb",
   "output_path": "__notebook__.ipynb",
   "parameters": {},
   "start_time": "2021-04-08T18:02:09.002764",
   "version": "2.2.2"
  }
 },
 "nbformat": 4,
 "nbformat_minor": 4
}
